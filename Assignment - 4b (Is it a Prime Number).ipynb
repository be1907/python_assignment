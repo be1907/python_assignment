{
 "cells": [
  {
   "cell_type": "code",
   "execution_count": 3,
   "metadata": {
    "tags": []
   },
   "outputs": [
    {
     "output_type": "stream",
     "name": "stdout",
     "text": "665667 is not s prime number.\n"
    }
   ],
   "source": [
    "n = int(input('enter a number : '))\n",
    "\n",
    "count = 0 \n",
    "\n",
    "for i in range(1, n+1):\n",
    "    if not (n % i): \n",
    "        count += 1\n",
    "if (n == 0) or (n == 1) or (count >=3): \n",
    "    print(n, 'is not a prime number.')\n",
    "else: \n",
    "    print(n, 'is a prime number')"
   ]
  },
  {
   "cell_type": "code",
   "execution_count": null,
   "metadata": {},
   "outputs": [],
   "source": []
  }
 ],
 "metadata": {
  "language_info": {
   "codemirror_mode": {
    "name": "ipython",
    "version": 3
   },
   "file_extension": ".py",
   "mimetype": "text/x-python",
   "name": "python",
   "nbconvert_exporter": "python",
   "pygments_lexer": "ipython3",
   "version": "3.8.3-final"
  },
  "orig_nbformat": 2,
  "kernelspec": {
   "name": "python38332bit534a9843125a4ba99c50790856823ad5",
   "display_name": "Python 3.8.3 32-bit"
  }
 },
 "nbformat": 4,
 "nbformat_minor": 2
}