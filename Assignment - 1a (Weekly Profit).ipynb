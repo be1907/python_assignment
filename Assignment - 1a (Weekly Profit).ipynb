{
 "metadata": {
  "language_info": {
   "codemirror_mode": {
    "name": "ipython",
    "version": 3
   },
   "file_extension": ".py",
   "mimetype": "text/x-python",
   "name": "python",
   "nbconvert_exporter": "python",
   "pygments_lexer": "ipython3",
   "version": "3.8.3-final"
  },
  "orig_nbformat": 2,
  "kernelspec": {
   "name": "python38332bit534a9843125a4ba99c50790856823ad5",
   "display_name": "Python 3.8.3 32-bit"
  }
 },
 "nbformat": 4,
 "nbformat_minor": 2,
 "cells": [
  {
   "cell_type": "code",
   "execution_count": 1,
   "metadata": {
    "tags": []
   },
   "outputs": [
    {
     "output_type": "stream",
     "name": "stdout",
     "text": "1605.78147647843 $\n"
    }
   ],
   "source": [
    "input\n",
    "anapara = a = 1000\n",
    "a = ((a * 7)/ 100) + a\n",
    "b = ((a * 7)/ 100) + a\n",
    "c = ((b * 7)/ 100) + b\n",
    "d = ((c * 7)/ 100) + c\n",
    "e = ((d * 7)/ 100) + d\n",
    "f = ((e * 7)/ 100) + e\n",
    "g = ((f * 7)/ 100) + f\n",
    "print(g, '$')"
   ]
  },
  {
   "cell_type": "code",
   "execution_count": 1,
   "metadata": {
    "tags": []
   },
   "outputs": [
    {
     "output_type": "stream",
     "name": "stdout",
     "text": "1605.7814764784307\n"
    }
   ],
   "source": [
    "deposit = 1000\n",
    "deposit = deposit * 1.07 ** 7\n",
    "print(deposit)"
   ]
  }
 ]
}