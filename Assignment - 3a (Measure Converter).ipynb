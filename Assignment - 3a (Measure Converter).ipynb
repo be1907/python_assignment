{
 "metadata": {
  "language_info": {
   "codemirror_mode": {
    "name": "ipython",
    "version": 3
   },
   "file_extension": ".py",
   "mimetype": "text/x-python",
   "name": "python",
   "nbconvert_exporter": "python",
   "pygments_lexer": "ipython3",
   "version": "3.8.3-final"
  },
  "orig_nbformat": 2,
  "kernelspec": {
   "name": "python38332bit534a9843125a4ba99c50790856823ad5",
   "display_name": "Python 3.8.3 32-bit"
  }
 },
 "nbformat": 4,
 "nbformat_minor": 2,
 "cells": [
  {
   "cell_type": "code",
   "execution_count": null,
   "metadata": {},
   "outputs": [],
   "source": [
    "kilometre = float(input('kilometre değeri :  '))\n",
    "miles = (kilometre * 0.6213)\n",
    "output = f'{kilometre} Km  : {miles} Mil '\n",
    "print(output)kilometre = float(input('kilometre değeri :  '))\n",
    "miles = (kilometre * 0.6213)\n",
    "output = f'{kilometre} Km  : {miles} Mil '\n",
    "print(output)"
   ]
  },
  {
   "cell_type": "code",
   "execution_count": null,
   "metadata": {},
   "outputs": [],
   "source": [
    "celsius = float(input('Celsius ısı değeri :  '))\n",
    "fahreinheit = (celsius * 1.8) + 32\n",
    "output = f'{celsius} °C  : {fahreinheit} °F '\n",
    "print(output)"
   ]
  }
 ]
}