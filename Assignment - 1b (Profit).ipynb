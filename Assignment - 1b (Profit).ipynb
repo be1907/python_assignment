{
 "metadata": {
  "language_info": {
   "codemirror_mode": {
    "name": "ipython",
    "version": 3
   },
   "file_extension": ".py",
   "mimetype": "text/x-python",
   "name": "python",
   "nbconvert_exporter": "python",
   "pygments_lexer": "ipython3",
   "version": "3.8.3-final"
  },
  "orig_nbformat": 2,
  "kernelspec": {
   "name": "python38332bit534a9843125a4ba99c50790856823ad5",
   "display_name": "Python 3.8.3 32-bit"
  }
 },
 "nbformat": 4,
 "nbformat_minor": 2,
 "cells": [
  {
   "cell_type": "code",
   "execution_count": 2,
   "metadata": {
    "tags": []
   },
   "outputs": [
    {
     "output_type": "stream",
     "name": "stdout",
     "text": "Your total profit is 13130.0 $.\n"
    }
   ],
   "source": [
    "sales = {\n",
    "  \"cost_value\": 31.87,\n",
    "  \"sell_value\": 45.00,\n",
    "  \"inventory\": 1000\n",
    "}  \n",
    "cost_value = sales[\"cost_value\"]\n",
    "sell_value = sales[\"sell_value\"]\n",
    "inventory = sales[\"inventory\"]\n",
    "Total_expense = (cost_value * inventory)\n",
    "Total_income = (sell_value * inventory) \n",
    "Total_profit = (Total_income - Total_expense)\n",
    "print(\"Your total profit is {} $.\".format(Total_profit))\n",
    "\n"
   ]
  },
  {
   "cell_type": "code",
   "execution_count": 3,
   "metadata": {
    "tags": []
   },
   "outputs": [
    {
     "output_type": "stream",
     "name": "stdout",
     "text": "$3.00\n$29.99\n$4.10\n"
    }
   ],
   "source": [
    "payroll_a = float(3)\n",
    "payroll_b = float(29.99)\n",
    "payroll_c = float(4.1)\n",
    "print(\"${:.2f}\".format(float(payroll_a)))\n",
    "print(\"${:.2f}\".format(float(payroll_b)))\n",
    "print(\"${:.2f}\".format(float(payroll_c)))"
   ]
  },
  {
   "cell_type": "code",
   "execution_count": null,
   "metadata": {},
   "outputs": [],
   "source": []
  }
 ]
}