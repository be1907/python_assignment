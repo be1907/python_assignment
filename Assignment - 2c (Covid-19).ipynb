{
 "cells": [
  {
   "cell_type": "code",
   "execution_count": 6,
   "metadata": {
    "tags": []
   },
   "outputs": [
    {
     "output_type": "stream",
     "name": "stdout",
     "text": "False True False\nTrue\nYou are in risky group\n"
    }
   ],
   "source": [
    "age = input(\"Are you a cigarette addict older than 75 years old? : (Yes/No\").title().strip() == 'Yes'\n",
    "chronic = input(\"Do you have a severe chronic disease? : (Yes/No\").title().strip() == 'Yes'\n",
    "immune = input(\"Is your immune system too weak? : (Yes/No\").title().strip() == 'Yes'\n",
    "\n",
    "print(age, chronic, immune)\n",
    "\n",
    "risk = age or chronic or immune\n",
    "\n",
    "print(risk)\n",
    "\n",
    "if risk:\n",
    "    print(\"You are in risky group\")\n",
    "else:\n",
    "     print(\"You are not in risky group\")"
   ]
  },
  {
   "cell_type": "code",
   "execution_count": null,
   "metadata": {},
   "outputs": [],
   "source": []
  }
 ],
 "metadata": {
  "language_info": {
   "codemirror_mode": {
    "name": "ipython",
    "version": 3
   },
   "file_extension": ".py",
   "mimetype": "text/x-python",
   "name": "python",
   "nbconvert_exporter": "python",
   "pygments_lexer": "ipython3",
   "version": "3.8.3-final"
  },
  "orig_nbformat": 2,
  "kernelspec": {
   "name": "python38332bit534a9843125a4ba99c50790856823ad5",
   "display_name": "Python 3.8.3 32-bit"
  }
 },
 "nbformat": 4,
 "nbformat_minor": 2
}