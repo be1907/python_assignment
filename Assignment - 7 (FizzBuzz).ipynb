{
 "metadata": {
  "language_info": {
   "codemirror_mode": {
    "name": "ipython",
    "version": 3
   },
   "file_extension": ".py",
   "mimetype": "text/x-python",
   "name": "python",
   "nbconvert_exporter": "python",
   "pygments_lexer": "ipython3",
   "version": "3.8.3-final"
  },
  "orig_nbformat": 2,
  "kernelspec": {
   "name": "python38332bit534a9843125a4ba99c50790856823ad5",
   "display_name": "Python 3.8.3 32-bit"
  }
 },
 "nbformat": 4,
 "nbformat_minor": 2,
 "cells": [
  {
   "cell_type": "code",
   "execution_count": 12,
   "metadata": {
    "tags": []
   },
   "outputs": [
    {
     "output_type": "stream",
     "name": "stdout",
     "text": "1\n2\nFizz\n3\n4\nBuzz\n5\nFizz\n6\n7\n8\nFizz\n9\nBuzz\n10\n11\nFizz\n12\n13\n14\nFizzBuzz\n15\n16\n17\nFizz\n18\n19\nBuzz\n20\nFizz\n21\n22\n23\nFizz\n24\nBuzz\n25\n26\nFizz\n27\n28\n29\nFizzBuzz\n30\n31\n32\nFizz\n33\n34\nBuzz\n35\nFizz\n36\n37\n38\nFizz\n39\nBuzz\n40\n41\nFizz\n42\n43\n44\nFizzBuzz\n45\n46\n47\nFizz\n48\n49\nBuzz\n50\nFizz\n51\n52\n53\nFizz\n54\nBuzz\n55\n56\nFizz\n57\n58\n59\nFizzBuzz\n60\n61\n62\nFizz\n63\n64\nBuzz\n65\nFizz\n66\n67\n68\nFizz\n69\nBuzz\n70\n71\nFizz\n72\n73\n74\nFizzBuzz\n75\n76\n77\nFizz\n78\n79\nBuzz\n80\nFizz\n81\n82\n83\nFizz\n84\nBuzz\n85\n86\nFizz\n87\n88\n89\nFizzBuzz\n90\n91\n92\nFizz\n93\n94\nBuzz\n95\nFizz\n96\n97\n98\nFizz\n99\n"
    }
   ],
   "source": [
    "for FizzBuzz in range(1,100):\n",
    "    if FizzBuzz % 3 == 0 and FizzBuzz % 5 == 0:\n",
    "        print(\"FizzBuzz\")\n",
    "    elif FizzBuzz % 3 == 0:\n",
    "        print(\"Fizz\")\n",
    "    elif FizzBuzz % 5 == 0:\n",
    "        print(\"Buzz\")\n",
    "    print(FizzBuzz)"
   ]
  }
 ]
}