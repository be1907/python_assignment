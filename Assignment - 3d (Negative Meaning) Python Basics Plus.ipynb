{
 "metadata": {
  "language_info": {
   "codemirror_mode": {
    "name": "ipython",
    "version": 3
   },
   "file_extension": ".py",
   "mimetype": "text/x-python",
   "name": "python",
   "nbconvert_exporter": "python",
   "pygments_lexer": "ipython3",
   "version": "3.8.3-final"
  },
  "orig_nbformat": 2,
  "kernelspec": {
   "name": "python38332bit534a9843125a4ba99c50790856823ad5",
   "display_name": "Python 3.8.3 32-bit"
  }
 },
 "nbformat": 4,
 "nbformat_minor": 2,
 "cells": [
  {
   "cell_type": "code",
   "execution_count": 7,
   "metadata": {},
   "outputs": [],
   "source": [
    "def not_string(word):\n",
    "  if not word[:3] == 'not':\n",
    "    return('not ' + word)\n",
    "  else:\n",
    "    return word\n"
   ]
  },
  {
   "cell_type": "code",
   "execution_count": 8,
   "metadata": {
    "tags": []
   },
   "outputs": [
    {
     "output_type": "stream",
     "name": "stdout",
     "text": "not sugar\nnot x\nnot bad\n"
    }
   ],
   "source": [
    "print(not_string('sugar'))\n",
    "\n",
    "print(not_string('x'))\n",
    "\n",
    "print(not_string('not bad'))"
   ]
  },
  {
   "cell_type": "code",
   "execution_count": null,
   "metadata": {},
   "outputs": [],
   "source": [
    "#Warmup-1 > not_string \n",
    "#Given a string, return a new string where \"not \" has been added to the front. However, if the string already begins with \"not\", return the string unchanged.\n",
    "\n",
    "#not_string('candy') → 'not candy'\n",
    "#not_string('x') → 'not x'\n",
    "#not_string('not bad') → 'not bad'\n",
    "\n",
    "def not_string(str):\n",
    "  if not str[:3] == 'not': #to check first word\n",
    "  #if not str[:3] == 'not': #to check first word\n",
    "    return('not '+str)\n",
    "  else:\n",
    "    return str"
   ]
  }
 ]
}